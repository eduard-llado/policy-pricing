{
 "cells": [
  {
   "cell_type": "code",
   "execution_count": 1,
   "metadata": {},
   "outputs": [],
   "source": [
    "%load_ext autoreload\n",
    "%autoreload 2\n",
    "\n",
    "import numpy as np\n",
    "import seaborn as sns\n",
    "from lightgbm import LGBMRegressor\n",
    "from sklearn.ensemble import (\n",
    "    BaggingRegressor,\n",
    "    ExtraTreesRegressor,\n",
    "    RandomForestRegressor,\n",
    ")\n",
    "from sklearn.linear_model import ElasticNetCV, LassoCV, SGDRegressor\n",
    "from sklearn.metrics import mean_absolute_error\n",
    "from sklearn.model_selection import cross_val_score\n",
    "from sklearn.pipeline import make_pipeline\n",
    "from sklearn.preprocessing import StandardScaler\n",
    "from sklearn.svm import SVR\n",
    "from xgboost import XGBRegressor\n",
    "\n",
    "from data_utilities import get_clean_data, get_raw_data, get_split\n",
    "\n",
    "# Try out a few models\n",
    "models = {\n",
    "    \"lasso\": make_pipeline(StandardScaler(), LassoCV(random_state=57)),\n",
    "    \"elastic net\": make_pipeline(StandardScaler(), ElasticNetCV(random_state=57)),\n",
    "    \"support vector machine\": make_pipeline(StandardScaler(), SVR()),\n",
    "    \"sgd\": make_pipeline(StandardScaler(), SGDRegressor(random_state=57)),\n",
    "    \"random forest\": RandomForestRegressor(random_state=57),\n",
    "    \"bagging\": BaggingRegressor(random_state=57),\n",
    "    \"extra trees\": ExtraTreesRegressor(random_state=57),\n",
    "    \"lgbm\": LGBMRegressor(random_state=57, verbose=-1),\n",
    "    \"xbg\": XGBRegressor(random_state=57),\n",
    "}"
   ]
  },
  {
   "cell_type": "code",
   "execution_count": 2,
   "metadata": {},
   "outputs": [
    {
     "name": "stdout",
     "output_type": "stream",
     "text": [
      "Loading raw dataset\n",
      "Training model: lasso\n"
     ]
    },
    {
     "name": "stderr",
     "output_type": "stream",
     "text": [
      "/Users/eduard/code/.venv/lib/python3.10/site-packages/sklearn/linear_model/_coordinate_descent.py:631: ConvergenceWarning: Objective did not converge. You might want to increase the number of iterations, check the scale of the features or consider increasing regularisation. Duality gap: 7.482e+04, tolerance: 3.782e+04\n",
      "  model = cd_fast.enet_coordinate_descent(\n"
     ]
    },
    {
     "name": "stdout",
     "output_type": "stream",
     "text": [
      "Finished training, MAE: 50.18\n",
      "Training model: elastic net\n",
      "Finished training, MAE: 50.45\n",
      "Training model: support vector machine\n",
      "Finished training, MAE: 49.94\n",
      "Training model: sgd\n",
      "Finished training, MAE: 3004728183.75\n",
      "Training model: random forest\n",
      "Finished training, MAE: 46.97\n",
      "Training model: bagging\n",
      "Finished training, MAE: 49.02\n",
      "Training model: extra trees\n",
      "Finished training, MAE: 47.63\n",
      "Training model: lgbm\n",
      "Finished training, MAE: 45.30\n",
      "Training model: xbg\n",
      "Finished training, MAE: 45.36\n"
     ]
    }
   ],
   "source": [
    "trained_models = []\n",
    "for name, model in models.items():\n",
    "    X_train, y_train, X_test, y_test = get_split(remove_all_nulls=True)\n",
    "    print(f\"Training model: {name}\")\n",
    "    model.fit(X_train, y_train)\n",
    "    prediction = model.predict(X_test)\n",
    "    score = mean_absolute_error(y_test, prediction)\n",
    "    print(f\"Finished training, MAE: {score:.2f}\")\n",
    "    trained_models.append(model)"
   ]
  },
  {
   "cell_type": "code",
   "execution_count": 3,
   "metadata": {},
   "outputs": [
    {
     "name": "stdout",
     "output_type": "stream",
     "text": [
      "Loading raw dataset\n"
     ]
    }
   ],
   "source": [
    "# Tune the best model a bit\n",
    "\n",
    "# LGBM can deal with nulls\n",
    "X_train, y_train, X_test, y_test = get_split(remove_all_nulls=False)\n",
    "\n",
    "\n",
    "def test_lgbm(**params):\n",
    "    params[\"verbose\"] = -1\n",
    "    params[\"random_state\"] = 57\n",
    "    lgbm = LGBMRegressor(**params).fit(X_train, y_train)\n",
    "    train_score = mean_absolute_error(y_train, lgbm.predict(X_train))\n",
    "    cv_score = -cross_val_score(\n",
    "        lgbm, X_train, y_train, scoring=\"neg_mean_absolute_error\"\n",
    "    ).mean()\n",
    "    print(f\"Train score {train_score}. CV score {cv_score}. Params {params}\")"
   ]
  },
  {
   "cell_type": "code",
   "execution_count": 4,
   "metadata": {},
   "outputs": [
    {
     "name": "stdout",
     "output_type": "stream",
     "text": [
      "Train score 43.487531918126. CV score 45.49206620041728. Params {'n_estimators': 100, 'verbose': -1, 'random_state': 57}\n",
      "Train score 40.568781117676245. CV score 45.24527945150708. Params {'n_estimators': 300, 'verbose': -1, 'random_state': 57}\n",
      "Train score 38.31883726280727. CV score 45.299863319913975. Params {'n_estimators': 500, 'verbose': -1, 'random_state': 57}\n",
      "Train score 36.327306397487575. CV score 45.37926359268093. Params {'n_estimators': 700, 'verbose': -1, 'random_state': 57}\n"
     ]
    }
   ],
   "source": [
    "test_lgbm(n_estimators=100)\n",
    "test_lgbm(n_estimators=300)\n",
    "test_lgbm(n_estimators=500)\n",
    "test_lgbm(n_estimators=700)"
   ]
  },
  {
   "cell_type": "code",
   "execution_count": 5,
   "metadata": {},
   "outputs": [
    {
     "name": "stdout",
     "output_type": "stream",
     "text": [
      "Train score 38.31883726280727. CV score 45.299863319913975. Params {'n_estimators': 500, 'learning_rate': 0.1, 'verbose': -1, 'random_state': 57}\n",
      "Train score 39.31234122951901. CV score 45.27662095210038. Params {'n_estimators': 500, 'learning_rate': 0.08, 'verbose': -1, 'random_state': 57}\n",
      "Train score 40.538392745666165. CV score 45.21862648141531. Params {'n_estimators': 500, 'learning_rate': 0.06, 'verbose': -1, 'random_state': 57}\n",
      "Train score 41.84434827302484. CV score 45.23014727932341. Params {'n_estimators': 500, 'learning_rate': 0.04, 'verbose': -1, 'random_state': 57}\n"
     ]
    }
   ],
   "source": [
    "test_lgbm(n_estimators=500, learning_rate=0.1)\n",
    "test_lgbm(n_estimators=500, learning_rate=0.08)\n",
    "test_lgbm(n_estimators=500, learning_rate=0.06)\n",
    "test_lgbm(n_estimators=500, learning_rate=0.04)"
   ]
  },
  {
   "cell_type": "code",
   "execution_count": 13,
   "metadata": {},
   "outputs": [
    {
     "name": "stdout",
     "output_type": "stream",
     "text": [
      "Train score 40.75791319257313. CV score 45.18474642449393. Params {'n_estimators': 700, 'learning_rate': 0.04, 'verbose': -1, 'random_state': 57}\n",
      "Train score 39.32810645373689. CV score 45.206251481761356. Params {'n_estimators': 1000, 'learning_rate': 0.04, 'verbose': -1, 'random_state': 57}\n"
     ]
    }
   ],
   "source": [
    "test_lgbm(n_estimators=700, learning_rate=0.04)\n",
    "test_lgbm(n_estimators=1000, learning_rate=0.04)"
   ]
  },
  {
   "cell_type": "code",
   "execution_count": 14,
   "metadata": {},
   "outputs": [
    {
     "name": "stdout",
     "output_type": "stream",
     "text": [
      "Train score 40.53235459207658. CV score 45.206404664756704. Params {'n_estimators': 1000, 'learning_rate': 0.03, 'verbose': -1, 'random_state': 57}\n"
     ]
    }
   ],
   "source": [
    "test_lgbm(n_estimators=1000, learning_rate=0.03)"
   ]
  },
  {
   "cell_type": "code",
   "execution_count": 15,
   "metadata": {},
   "outputs": [
    {
     "data": {
      "text/plain": [
       "44.4533196550708"
      ]
     },
     "execution_count": 15,
     "metadata": {},
     "output_type": "execute_result"
    }
   ],
   "source": [
    "# Test score of tuned model\n",
    "lgbm = LGBMRegressor(n_estimators=700, learning_rate=0.04, random_state=57, verbose=-1)\n",
    "lgbm.fit(X_train, y_train)\n",
    "prediction = lgbm.predict(X_test)\n",
    "mean_absolute_error(y_test, prediction)"
   ]
  },
  {
   "cell_type": "code",
   "execution_count": null,
   "metadata": {},
   "outputs": [],
   "source": []
  }
 ],
 "metadata": {
  "kernelspec": {
   "display_name": ".venv",
   "language": "python",
   "name": "python3"
  },
  "language_info": {
   "codemirror_mode": {
    "name": "ipython",
    "version": 3
   },
   "file_extension": ".py",
   "mimetype": "text/x-python",
   "name": "python",
   "nbconvert_exporter": "python",
   "pygments_lexer": "ipython3",
   "version": "3.10.9"
  },
  "orig_nbformat": 4
 },
 "nbformat": 4,
 "nbformat_minor": 2
}
