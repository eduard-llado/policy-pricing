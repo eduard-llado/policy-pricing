{
 "cells": [
  {
   "cell_type": "code",
   "execution_count": 1,
   "metadata": {},
   "outputs": [
    {
     "name": "stdout",
     "output_type": "stream",
     "text": [
      "Loading raw dataset\n"
     ]
    }
   ],
   "source": [
    "import pandas as pd\n",
    "import numpy as np\n",
    "import seaborn as sns\n",
    "from sklearn.feature_selection import r_regression\n",
    "\n",
    "from data_utilities import get_raw_data, get_clean_data\n",
    "\n",
    "\n",
    "train, test = get_raw_data()"
   ]
  },
  {
   "cell_type": "code",
   "execution_count": 2,
   "metadata": {},
   "outputs": [
    {
     "name": "stdout",
     "output_type": "stream",
     "text": [
      "<class 'pandas.core.frame.DataFrame'>\n",
      "RangeIndex: 62699 entries, 0 to 62698\n",
      "Data columns (total 23 columns):\n",
      " #   Column                                    Non-Null Count  Dtype         \n",
      "---  ------                                    --------------  -----         \n",
      " 0   driver_birth_date                         62699 non-null  datetime64[ns]\n",
      " 1   driver_driving_license_ym                 62699 non-null  object        \n",
      " 2   driver_other_vehicles                     32891 non-null  object        \n",
      " 3   driver_insured_years                      55568 non-null  object        \n",
      " 4   occasional_driver_birth_date              17498 non-null  datetime64[ns]\n",
      " 5   occasional_driver_license_attainment_age  17498 non-null  float64       \n",
      " 6   policyholder_age                          4116 non-null   float64       \n",
      " 7   policyholder_license_attainment_age       4116 non-null   float64       \n",
      " 8   vehicle_acquisition_state                 62699 non-null  object        \n",
      " 9   vehicle_buy_ym                            62699 non-null  object        \n",
      " 10  vehicle_registration_ym                   62699 non-null  object        \n",
      " 11  vehicle_engine_power                      62699 non-null  int64         \n",
      " 12  vehicle_number_of_doors                   62699 non-null  int64         \n",
      " 13  vehicle_use                               62699 non-null  object        \n",
      " 14  driver_claims_last_1_year                 62699 non-null  int64         \n",
      " 15  driver_claims_from_year_1_to_2            62699 non-null  int64         \n",
      " 16  driver_claims_from_year_2_to_3            62699 non-null  int64         \n",
      " 17  driver_claims_from_year_3_to_4            62699 non-null  int64         \n",
      " 18  driver_claims_from_year_4_to_5            62699 non-null  int64         \n",
      " 19  timestamp                                 62699 non-null  datetime64[ns]\n",
      " 20  competitor_lowest_price                   62699 non-null  float64       \n",
      " 21  number_of_competitors                     62699 non-null  int64         \n",
      " 22  quote_id                                  62699 non-null  object        \n",
      "dtypes: datetime64[ns](3), float64(4), int64(8), object(8)\n",
      "memory usage: 11.0+ MB\n"
     ]
    }
   ],
   "source": [
    "train.info()"
   ]
  },
  {
   "cell_type": "code",
   "execution_count": 3,
   "metadata": {},
   "outputs": [
    {
     "data": {
      "text/html": [
       "<div>\n",
       "<style scoped>\n",
       "    .dataframe tbody tr th:only-of-type {\n",
       "        vertical-align: middle;\n",
       "    }\n",
       "\n",
       "    .dataframe tbody tr th {\n",
       "        vertical-align: top;\n",
       "    }\n",
       "\n",
       "    .dataframe thead th {\n",
       "        text-align: right;\n",
       "    }\n",
       "</style>\n",
       "<table border=\"1\" class=\"dataframe\">\n",
       "  <thead>\n",
       "    <tr style=\"text-align: right;\">\n",
       "      <th></th>\n",
       "      <th>occasional_driver_license_attainment_age</th>\n",
       "      <th>policyholder_age</th>\n",
       "      <th>policyholder_license_attainment_age</th>\n",
       "      <th>vehicle_engine_power</th>\n",
       "      <th>vehicle_number_of_doors</th>\n",
       "      <th>driver_claims_last_1_year</th>\n",
       "      <th>driver_claims_from_year_1_to_2</th>\n",
       "      <th>driver_claims_from_year_2_to_3</th>\n",
       "      <th>driver_claims_from_year_3_to_4</th>\n",
       "      <th>driver_claims_from_year_4_to_5</th>\n",
       "      <th>competitor_lowest_price</th>\n",
       "      <th>number_of_competitors</th>\n",
       "    </tr>\n",
       "  </thead>\n",
       "  <tbody>\n",
       "    <tr>\n",
       "      <th>count</th>\n",
       "      <td>17498.000000</td>\n",
       "      <td>4116.000000</td>\n",
       "      <td>4116.000000</td>\n",
       "      <td>62699.000000</td>\n",
       "      <td>62699.000000</td>\n",
       "      <td>62699.000000</td>\n",
       "      <td>62699.000000</td>\n",
       "      <td>62699.000000</td>\n",
       "      <td>62699.000000</td>\n",
       "      <td>62699.000000</td>\n",
       "      <td>62699.000000</td>\n",
       "      <td>62699.000000</td>\n",
       "    </tr>\n",
       "    <tr>\n",
       "      <th>mean</th>\n",
       "      <td>22.831238</td>\n",
       "      <td>47.120262</td>\n",
       "      <td>21.648445</td>\n",
       "      <td>120.642690</td>\n",
       "      <td>4.613327</td>\n",
       "      <td>0.020016</td>\n",
       "      <td>0.011723</td>\n",
       "      <td>0.011707</td>\n",
       "      <td>0.005790</td>\n",
       "      <td>0.004003</td>\n",
       "      <td>247.628708</td>\n",
       "      <td>9.646884</td>\n",
       "    </tr>\n",
       "    <tr>\n",
       "      <th>std</th>\n",
       "      <td>7.578515</td>\n",
       "      <td>12.878472</td>\n",
       "      <td>6.166272</td>\n",
       "      <td>42.753791</td>\n",
       "      <td>0.768983</td>\n",
       "      <td>0.144981</td>\n",
       "      <td>0.113126</td>\n",
       "      <td>0.112634</td>\n",
       "      <td>0.080757</td>\n",
       "      <td>0.066587</td>\n",
       "      <td>86.765620</td>\n",
       "      <td>3.083937</td>\n",
       "    </tr>\n",
       "    <tr>\n",
       "      <th>min</th>\n",
       "      <td>18.000000</td>\n",
       "      <td>18.000000</td>\n",
       "      <td>18.000000</td>\n",
       "      <td>1.000000</td>\n",
       "      <td>0.000000</td>\n",
       "      <td>0.000000</td>\n",
       "      <td>0.000000</td>\n",
       "      <td>0.000000</td>\n",
       "      <td>0.000000</td>\n",
       "      <td>0.000000</td>\n",
       "      <td>132.150000</td>\n",
       "      <td>3.000000</td>\n",
       "    </tr>\n",
       "    <tr>\n",
       "      <th>25%</th>\n",
       "      <td>18.000000</td>\n",
       "      <td>38.000000</td>\n",
       "      <td>18.000000</td>\n",
       "      <td>90.000000</td>\n",
       "      <td>5.000000</td>\n",
       "      <td>0.000000</td>\n",
       "      <td>0.000000</td>\n",
       "      <td>0.000000</td>\n",
       "      <td>0.000000</td>\n",
       "      <td>0.000000</td>\n",
       "      <td>179.380000</td>\n",
       "      <td>7.000000</td>\n",
       "    </tr>\n",
       "    <tr>\n",
       "      <th>50%</th>\n",
       "      <td>20.000000</td>\n",
       "      <td>46.000000</td>\n",
       "      <td>19.000000</td>\n",
       "      <td>112.000000</td>\n",
       "      <td>5.000000</td>\n",
       "      <td>0.000000</td>\n",
       "      <td>0.000000</td>\n",
       "      <td>0.000000</td>\n",
       "      <td>0.000000</td>\n",
       "      <td>0.000000</td>\n",
       "      <td>219.510000</td>\n",
       "      <td>10.000000</td>\n",
       "    </tr>\n",
       "    <tr>\n",
       "      <th>75%</th>\n",
       "      <td>24.000000</td>\n",
       "      <td>56.000000</td>\n",
       "      <td>22.000000</td>\n",
       "      <td>140.000000</td>\n",
       "      <td>5.000000</td>\n",
       "      <td>0.000000</td>\n",
       "      <td>0.000000</td>\n",
       "      <td>0.000000</td>\n",
       "      <td>0.000000</td>\n",
       "      <td>0.000000</td>\n",
       "      <td>295.105000</td>\n",
       "      <td>12.000000</td>\n",
       "    </tr>\n",
       "    <tr>\n",
       "      <th>max</th>\n",
       "      <td>76.000000</td>\n",
       "      <td>94.000000</td>\n",
       "      <td>80.000000</td>\n",
       "      <td>507.000000</td>\n",
       "      <td>6.000000</td>\n",
       "      <td>3.000000</td>\n",
       "      <td>3.000000</td>\n",
       "      <td>3.000000</td>\n",
       "      <td>4.000000</td>\n",
       "      <td>3.000000</td>\n",
       "      <td>499.970000</td>\n",
       "      <td>19.000000</td>\n",
       "    </tr>\n",
       "  </tbody>\n",
       "</table>\n",
       "</div>"
      ],
      "text/plain": [
       "       occasional_driver_license_attainment_age  policyholder_age  \\\n",
       "count                              17498.000000       4116.000000   \n",
       "mean                                  22.831238         47.120262   \n",
       "std                                    7.578515         12.878472   \n",
       "min                                   18.000000         18.000000   \n",
       "25%                                   18.000000         38.000000   \n",
       "50%                                   20.000000         46.000000   \n",
       "75%                                   24.000000         56.000000   \n",
       "max                                   76.000000         94.000000   \n",
       "\n",
       "       policyholder_license_attainment_age  vehicle_engine_power  \\\n",
       "count                          4116.000000          62699.000000   \n",
       "mean                             21.648445            120.642690   \n",
       "std                               6.166272             42.753791   \n",
       "min                              18.000000              1.000000   \n",
       "25%                              18.000000             90.000000   \n",
       "50%                              19.000000            112.000000   \n",
       "75%                              22.000000            140.000000   \n",
       "max                              80.000000            507.000000   \n",
       "\n",
       "       vehicle_number_of_doors  driver_claims_last_1_year  \\\n",
       "count             62699.000000               62699.000000   \n",
       "mean                  4.613327                   0.020016   \n",
       "std                   0.768983                   0.144981   \n",
       "min                   0.000000                   0.000000   \n",
       "25%                   5.000000                   0.000000   \n",
       "50%                   5.000000                   0.000000   \n",
       "75%                   5.000000                   0.000000   \n",
       "max                   6.000000                   3.000000   \n",
       "\n",
       "       driver_claims_from_year_1_to_2  driver_claims_from_year_2_to_3  \\\n",
       "count                    62699.000000                    62699.000000   \n",
       "mean                         0.011723                        0.011707   \n",
       "std                          0.113126                        0.112634   \n",
       "min                          0.000000                        0.000000   \n",
       "25%                          0.000000                        0.000000   \n",
       "50%                          0.000000                        0.000000   \n",
       "75%                          0.000000                        0.000000   \n",
       "max                          3.000000                        3.000000   \n",
       "\n",
       "       driver_claims_from_year_3_to_4  driver_claims_from_year_4_to_5  \\\n",
       "count                    62699.000000                    62699.000000   \n",
       "mean                         0.005790                        0.004003   \n",
       "std                          0.080757                        0.066587   \n",
       "min                          0.000000                        0.000000   \n",
       "25%                          0.000000                        0.000000   \n",
       "50%                          0.000000                        0.000000   \n",
       "75%                          0.000000                        0.000000   \n",
       "max                          4.000000                        3.000000   \n",
       "\n",
       "       competitor_lowest_price  number_of_competitors  \n",
       "count             62699.000000           62699.000000  \n",
       "mean                247.628708               9.646884  \n",
       "std                  86.765620               3.083937  \n",
       "min                 132.150000               3.000000  \n",
       "25%                 179.380000               7.000000  \n",
       "50%                 219.510000              10.000000  \n",
       "75%                 295.105000              12.000000  \n",
       "max                 499.970000              19.000000  "
      ]
     },
     "execution_count": 3,
     "metadata": {},
     "output_type": "execute_result"
    }
   ],
   "source": [
    "train.describe()"
   ]
  },
  {
   "cell_type": "code",
   "execution_count": 4,
   "metadata": {},
   "outputs": [
    {
     "data": {
      "text/html": [
       "<div>\n",
       "<style scoped>\n",
       "    .dataframe tbody tr th:only-of-type {\n",
       "        vertical-align: middle;\n",
       "    }\n",
       "\n",
       "    .dataframe tbody tr th {\n",
       "        vertical-align: top;\n",
       "    }\n",
       "\n",
       "    .dataframe thead th {\n",
       "        text-align: right;\n",
       "    }\n",
       "</style>\n",
       "<table border=\"1\" class=\"dataframe\">\n",
       "  <thead>\n",
       "    <tr style=\"text-align: right;\">\n",
       "      <th></th>\n",
       "      <th>driver_birth_date</th>\n",
       "      <th>driver_driving_license_ym</th>\n",
       "      <th>driver_other_vehicles</th>\n",
       "      <th>driver_insured_years</th>\n",
       "      <th>occasional_driver_birth_date</th>\n",
       "      <th>occasional_driver_license_attainment_age</th>\n",
       "      <th>policyholder_age</th>\n",
       "      <th>policyholder_license_attainment_age</th>\n",
       "      <th>vehicle_acquisition_state</th>\n",
       "      <th>vehicle_buy_ym</th>\n",
       "      <th>...</th>\n",
       "      <th>vehicle_use</th>\n",
       "      <th>driver_claims_last_1_year</th>\n",
       "      <th>driver_claims_from_year_1_to_2</th>\n",
       "      <th>driver_claims_from_year_2_to_3</th>\n",
       "      <th>driver_claims_from_year_3_to_4</th>\n",
       "      <th>driver_claims_from_year_4_to_5</th>\n",
       "      <th>timestamp</th>\n",
       "      <th>competitor_lowest_price</th>\n",
       "      <th>number_of_competitors</th>\n",
       "      <th>quote_id</th>\n",
       "    </tr>\n",
       "  </thead>\n",
       "  <tbody>\n",
       "    <tr>\n",
       "      <th>0</th>\n",
       "      <td>1950-05-12</td>\n",
       "      <td>1969-04</td>\n",
       "      <td>NaN</td>\n",
       "      <td>MORE_THAN_TEN</td>\n",
       "      <td>NaT</td>\n",
       "      <td>NaN</td>\n",
       "      <td>NaN</td>\n",
       "      <td>NaN</td>\n",
       "      <td>OWNED</td>\n",
       "      <td>2006-03</td>\n",
       "      <td>...</td>\n",
       "      <td>HABITUAL</td>\n",
       "      <td>0</td>\n",
       "      <td>0</td>\n",
       "      <td>0</td>\n",
       "      <td>0</td>\n",
       "      <td>0</td>\n",
       "      <td>2023-05-01 00:04:22</td>\n",
       "      <td>196.26</td>\n",
       "      <td>10</td>\n",
       "      <td>51d5ba7e8044c72ff5f981b46c09ae37ba55551c50f4ac...</td>\n",
       "    </tr>\n",
       "    <tr>\n",
       "      <th>1</th>\n",
       "      <td>1986-08-09</td>\n",
       "      <td>2011-05</td>\n",
       "      <td>BIKE</td>\n",
       "      <td>ONE</td>\n",
       "      <td>NaT</td>\n",
       "      <td>NaN</td>\n",
       "      <td>NaN</td>\n",
       "      <td>NaN</td>\n",
       "      <td>OWNED</td>\n",
       "      <td>2020-06</td>\n",
       "      <td>...</td>\n",
       "      <td>HABITUAL</td>\n",
       "      <td>0</td>\n",
       "      <td>0</td>\n",
       "      <td>0</td>\n",
       "      <td>0</td>\n",
       "      <td>0</td>\n",
       "      <td>2023-05-01 00:08:44</td>\n",
       "      <td>220.20</td>\n",
       "      <td>9</td>\n",
       "      <td>cae1d02522b96ef3ed7f9785ee283da7888b84692b56b4...</td>\n",
       "    </tr>\n",
       "    <tr>\n",
       "      <th>2</th>\n",
       "      <td>1988-03-24</td>\n",
       "      <td>2006-03</td>\n",
       "      <td>NaN</td>\n",
       "      <td>FOUR</td>\n",
       "      <td>1986-04-20</td>\n",
       "      <td>18.0</td>\n",
       "      <td>NaN</td>\n",
       "      <td>NaN</td>\n",
       "      <td>RECENT_SECOND_HAND_FROM_PRIVATE</td>\n",
       "      <td>2023-05</td>\n",
       "      <td>...</td>\n",
       "      <td>OCCASIONAL</td>\n",
       "      <td>0</td>\n",
       "      <td>0</td>\n",
       "      <td>0</td>\n",
       "      <td>0</td>\n",
       "      <td>0</td>\n",
       "      <td>2023-05-01 00:17:10</td>\n",
       "      <td>234.11</td>\n",
       "      <td>9</td>\n",
       "      <td>6215cd4d59e461c525685278a8c7b7ed0d2650693e1eef...</td>\n",
       "    </tr>\n",
       "    <tr>\n",
       "      <th>3</th>\n",
       "      <td>1972-07-20</td>\n",
       "      <td>1994-07</td>\n",
       "      <td>CAR</td>\n",
       "      <td>SIX</td>\n",
       "      <td>1967-01-27</td>\n",
       "      <td>18.0</td>\n",
       "      <td>NaN</td>\n",
       "      <td>NaN</td>\n",
       "      <td>OWNED</td>\n",
       "      <td>2022-05</td>\n",
       "      <td>...</td>\n",
       "      <td>OCCASIONAL</td>\n",
       "      <td>0</td>\n",
       "      <td>0</td>\n",
       "      <td>0</td>\n",
       "      <td>0</td>\n",
       "      <td>0</td>\n",
       "      <td>2023-05-01 00:19:47</td>\n",
       "      <td>145.98</td>\n",
       "      <td>14</td>\n",
       "      <td>f072220d72571df3560f77c74d7f691c73ae913095a3c2...</td>\n",
       "    </tr>\n",
       "    <tr>\n",
       "      <th>4</th>\n",
       "      <td>1975-02-16</td>\n",
       "      <td>2007-04</td>\n",
       "      <td>NaN</td>\n",
       "      <td>ONE</td>\n",
       "      <td>NaT</td>\n",
       "      <td>NaN</td>\n",
       "      <td>NaN</td>\n",
       "      <td>NaN</td>\n",
       "      <td>OWNED</td>\n",
       "      <td>2017-07</td>\n",
       "      <td>...</td>\n",
       "      <td>HABITUAL</td>\n",
       "      <td>1</td>\n",
       "      <td>0</td>\n",
       "      <td>0</td>\n",
       "      <td>0</td>\n",
       "      <td>0</td>\n",
       "      <td>2023-05-01 00:23:57</td>\n",
       "      <td>245.90</td>\n",
       "      <td>9</td>\n",
       "      <td>daecd73a0c6ce56303f2f117b4c9d5f2b788fef68f7234...</td>\n",
       "    </tr>\n",
       "  </tbody>\n",
       "</table>\n",
       "<p>5 rows × 23 columns</p>\n",
       "</div>"
      ],
      "text/plain": [
       "  driver_birth_date driver_driving_license_ym driver_other_vehicles  \\\n",
       "0        1950-05-12                   1969-04                   NaN   \n",
       "1        1986-08-09                   2011-05                  BIKE   \n",
       "2        1988-03-24                   2006-03                   NaN   \n",
       "3        1972-07-20                   1994-07                   CAR   \n",
       "4        1975-02-16                   2007-04                   NaN   \n",
       "\n",
       "  driver_insured_years occasional_driver_birth_date  \\\n",
       "0        MORE_THAN_TEN                          NaT   \n",
       "1                  ONE                          NaT   \n",
       "2                 FOUR                   1986-04-20   \n",
       "3                  SIX                   1967-01-27   \n",
       "4                  ONE                          NaT   \n",
       "\n",
       "   occasional_driver_license_attainment_age  policyholder_age  \\\n",
       "0                                       NaN               NaN   \n",
       "1                                       NaN               NaN   \n",
       "2                                      18.0               NaN   \n",
       "3                                      18.0               NaN   \n",
       "4                                       NaN               NaN   \n",
       "\n",
       "   policyholder_license_attainment_age        vehicle_acquisition_state  \\\n",
       "0                                  NaN                            OWNED   \n",
       "1                                  NaN                            OWNED   \n",
       "2                                  NaN  RECENT_SECOND_HAND_FROM_PRIVATE   \n",
       "3                                  NaN                            OWNED   \n",
       "4                                  NaN                            OWNED   \n",
       "\n",
       "  vehicle_buy_ym  ... vehicle_use  driver_claims_last_1_year  \\\n",
       "0        2006-03  ...    HABITUAL                          0   \n",
       "1        2020-06  ...    HABITUAL                          0   \n",
       "2        2023-05  ...  OCCASIONAL                          0   \n",
       "3        2022-05  ...  OCCASIONAL                          0   \n",
       "4        2017-07  ...    HABITUAL                          1   \n",
       "\n",
       "   driver_claims_from_year_1_to_2 driver_claims_from_year_2_to_3  \\\n",
       "0                               0                              0   \n",
       "1                               0                              0   \n",
       "2                               0                              0   \n",
       "3                               0                              0   \n",
       "4                               0                              0   \n",
       "\n",
       "   driver_claims_from_year_3_to_4  driver_claims_from_year_4_to_5  \\\n",
       "0                               0                               0   \n",
       "1                               0                               0   \n",
       "2                               0                               0   \n",
       "3                               0                               0   \n",
       "4                               0                               0   \n",
       "\n",
       "            timestamp  competitor_lowest_price  number_of_competitors  \\\n",
       "0 2023-05-01 00:04:22                   196.26                     10   \n",
       "1 2023-05-01 00:08:44                   220.20                      9   \n",
       "2 2023-05-01 00:17:10                   234.11                      9   \n",
       "3 2023-05-01 00:19:47                   145.98                     14   \n",
       "4 2023-05-01 00:23:57                   245.90                      9   \n",
       "\n",
       "                                            quote_id  \n",
       "0  51d5ba7e8044c72ff5f981b46c09ae37ba55551c50f4ac...  \n",
       "1  cae1d02522b96ef3ed7f9785ee283da7888b84692b56b4...  \n",
       "2  6215cd4d59e461c525685278a8c7b7ed0d2650693e1eef...  \n",
       "3  f072220d72571df3560f77c74d7f691c73ae913095a3c2...  \n",
       "4  daecd73a0c6ce56303f2f117b4c9d5f2b788fef68f7234...  \n",
       "\n",
       "[5 rows x 23 columns]"
      ]
     },
     "execution_count": 4,
     "metadata": {},
     "output_type": "execute_result"
    }
   ],
   "source": [
    "train.head()"
   ]
  },
  {
   "cell_type": "code",
   "execution_count": 5,
   "metadata": {},
   "outputs": [
    {
     "data": {
      "text/plain": [
       "({'EIGHT',\n",
       "  'FIVE',\n",
       "  'FOUR',\n",
       "  'MORE_THAN_TEN',\n",
       "  'NINE',\n",
       "  'ONE',\n",
       "  'SEVEN',\n",
       "  'SIX',\n",
       "  'TEN',\n",
       "  'THREE',\n",
       "  'TWO',\n",
       "  nan},\n",
       " {'HABITUAL',\n",
       "  'OCCASIONAL',\n",
       "  'PROFESSIONAL_HABITUAL',\n",
       "  'PROFESSIONAL_OCCASIONAL'})"
      ]
     },
     "execution_count": 5,
     "metadata": {},
     "output_type": "execute_result"
    }
   ],
   "source": [
    "set(train[\"driver_insured_years\"]), set(train[\"vehicle_use\"])"
   ]
  },
  {
   "cell_type": "code",
   "execution_count": 6,
   "metadata": {},
   "outputs": [
    {
     "data": {
      "text/plain": [
       "({'BIKE', 'CAR', 'OTHER', nan},\n",
       " {'BUYING_FIRST_HAND',\n",
       "  'BUYING_SECOND_HAND_FROM_CAR_DEALER',\n",
       "  'BUYING_SECOND_HAND_FROM_PRIVATE',\n",
       "  'OWNED',\n",
       "  'RECENT_FIRST_HAND',\n",
       "  'RECENT_SECOND_HAND_FROM_CAR_DEALER',\n",
       "  'RECENT_SECOND_HAND_FROM_PRIVATE'})"
      ]
     },
     "execution_count": 6,
     "metadata": {},
     "output_type": "execute_result"
    }
   ],
   "source": [
    "set(train[\"driver_other_vehicles\"]), set(train[\"vehicle_acquisition_state\"])"
   ]
  },
  {
   "cell_type": "code",
   "execution_count": 7,
   "metadata": {},
   "outputs": [
    {
     "data": {
      "text/plain": [
       "['competitor_lowest_price', 'number_of_competitors']"
      ]
     },
     "execution_count": 7,
     "metadata": {},
     "output_type": "execute_result"
    }
   ],
   "source": [
    "[c for c in train.columns if c not in test.columns]"
   ]
  },
  {
   "cell_type": "code",
   "execution_count": 8,
   "metadata": {},
   "outputs": [
    {
     "data": {
      "text/plain": [
       "driver_birth_date                               0\n",
       "driver_driving_license_ym                       0\n",
       "driver_other_vehicles                       29808\n",
       "driver_insured_years                         7131\n",
       "occasional_driver_birth_date                45201\n",
       "occasional_driver_license_attainment_age    45201\n",
       "policyholder_age                            58583\n",
       "policyholder_license_attainment_age         58583\n",
       "vehicle_acquisition_state                       0\n",
       "vehicle_buy_ym                                  0\n",
       "vehicle_registration_ym                         0\n",
       "vehicle_engine_power                            0\n",
       "vehicle_number_of_doors                         0\n",
       "vehicle_use                                     0\n",
       "driver_claims_last_1_year                       0\n",
       "driver_claims_from_year_1_to_2                  0\n",
       "driver_claims_from_year_2_to_3                  0\n",
       "driver_claims_from_year_3_to_4                  0\n",
       "driver_claims_from_year_4_to_5                  0\n",
       "timestamp                                       0\n",
       "competitor_lowest_price                         0\n",
       "number_of_competitors                           0\n",
       "quote_id                                        0\n",
       "dtype: int64"
      ]
     },
     "execution_count": 8,
     "metadata": {},
     "output_type": "execute_result"
    }
   ],
   "source": [
    "train.isnull().sum(0)"
   ]
  },
  {
   "cell_type": "code",
   "execution_count": 9,
   "metadata": {},
   "outputs": [
    {
     "data": {
      "text/plain": [
       "driver_birth_date                               0\n",
       "driver_driving_license_ym                       0\n",
       "driver_other_vehicles                        8040\n",
       "driver_insured_years                         2177\n",
       "occasional_driver_birth_date                12387\n",
       "occasional_driver_license_attainment_age    12387\n",
       "policyholder_age                            15965\n",
       "policyholder_license_attainment_age         15965\n",
       "vehicle_acquisition_state                       0\n",
       "vehicle_buy_ym                                  0\n",
       "vehicle_registration_ym                         0\n",
       "vehicle_engine_power                            0\n",
       "vehicle_number_of_doors                         0\n",
       "vehicle_use                                     0\n",
       "driver_claims_last_1_year                       0\n",
       "driver_claims_from_year_1_to_2                  0\n",
       "driver_claims_from_year_2_to_3                  0\n",
       "driver_claims_from_year_3_to_4                  0\n",
       "driver_claims_from_year_4_to_5                  0\n",
       "timestamp                                       0\n",
       "quote_id                                        0\n",
       "dtype: int64"
      ]
     },
     "execution_count": 9,
     "metadata": {},
     "output_type": "execute_result"
    }
   ],
   "source": [
    "test.isnull().sum(0)"
   ]
  },
  {
   "cell_type": "code",
   "execution_count": 10,
   "metadata": {},
   "outputs": [
    {
     "data": {
      "text/plain": [
       "count    62699.000000\n",
       "mean       247.628708\n",
       "std         86.765620\n",
       "min        132.150000\n",
       "25%        179.380000\n",
       "50%        219.510000\n",
       "75%        295.105000\n",
       "max        499.970000\n",
       "Name: competitor_lowest_price, dtype: float64"
      ]
     },
     "execution_count": 10,
     "metadata": {},
     "output_type": "execute_result"
    }
   ],
   "source": [
    "train[\"competitor_lowest_price\"].describe()"
   ]
  },
  {
   "cell_type": "code",
   "execution_count": 11,
   "metadata": {},
   "outputs": [
    {
     "name": "stderr",
     "output_type": "stream",
     "text": [
      "/Users/eduard/code/.venv/lib/python3.10/site-packages/seaborn/axisgrid.py:118: UserWarning: The figure layout has changed to tight\n",
      "  self._figure.tight_layout(*args, **kwargs)\n"
     ]
    },
    {
     "data": {
      "text/plain": [
       "<seaborn.axisgrid.FacetGrid at 0x108a6d780>"
      ]
     },
     "execution_count": 11,
     "metadata": {},
     "output_type": "execute_result"
    },
    {
     "data": {
      "image/png": "[encoded data removed]",
      "text/plain": [
       "<Figure size 500x500 with 1 Axes>"
      ]
     },
     "metadata": {},
     "output_type": "display_data"
    }
   ],
   "source": [
    "sns.displot(train[\"competitor_lowest_price\"], kde=True, bins=15)"
   ]
  },
  {
   "cell_type": "code",
   "execution_count": 12,
   "metadata": {},
   "outputs": [
    {
     "name": "stderr",
     "output_type": "stream",
     "text": [
      "/Users/eduard/code/.venv/lib/python3.10/site-packages/seaborn/axisgrid.py:118: UserWarning: The figure layout has changed to tight\n",
      "  self._figure.tight_layout(*args, **kwargs)\n"
     ]
    },
    {
     "data": {
      "text/plain": [
       "<seaborn.axisgrid.FacetGrid at 0x15ce13f10>"
      ]
     },
     "execution_count": 12,
     "metadata": {},
     "output_type": "execute_result"
    },
    {
     "data": {
      "image/png": "[encoded data removed]",
      "text/plain": [
       "<Figure size 500x500 with 1 Axes>"
      ]
     },
     "metadata": {},
     "output_type": "display_data"
    }
   ],
   "source": [
    "sns.displot(train[\"occasional_driver_birth_date\"], kde=True, bins=15)"
   ]
  },
  {
   "cell_type": "code",
   "execution_count": 18,
   "metadata": {},
   "outputs": [
    {
     "data": {
      "text/plain": [
       "driver_insured_years#ZERO                                       0.402079\n",
       "driver_driving_license_ym                                       0.252268\n",
       "vehicle_acquisition_state#RECENT_SECOND_HAND_FROM_PRIVATE       0.220777\n",
       "vehicle_buy_ym                                                  0.199036\n",
       "driver_birth_date                                               0.190981\n",
       "occasional_driver_birth_date#7.0                                0.184355\n",
       "vehicle_acquisition_state#RECENT_SECOND_HAND_FROM_CAR_DEALER    0.133072\n",
       "driver_insured_years#ONE                                        0.108898\n",
       "driver_claims_last_1_year                                       0.087547\n",
       "driver_claims_from_year_1_to_2                                  0.068552\n",
       "vehicle_use#PROFESSIONAL_HABITUAL                               0.063852\n",
       "policyholder_age#0.0                                            0.059187\n",
       "driver_claims_from_year_2_to_3                                  0.055367\n",
       "vehicle_engine_power                                            0.053363\n",
       "vehicle_acquisition_state#BUYING_SECOND_HAND_FROM_PRIVATE       0.050911\n",
       "occasional_driver_license_attainment_age#nan                    0.050898\n",
       "dtype: float64"
      ]
     },
     "execution_count": 18,
     "metadata": {},
     "output_type": "execute_result"
    }
   ],
   "source": [
    "X_train, y_train, X_test = get_clean_data(remove_all_nulls=True)\n",
    "\n",
    "s = pd.Series(r_regression(X_train, y_train), index=X_train.columns)\n",
    "s.sort_values(ascending=False)[:16]"
   ]
  },
  {
   "cell_type": "code",
   "execution_count": 19,
   "metadata": {},
   "outputs": [
    {
     "data": {
      "text/plain": [
       "vehicle_acquisition_state#OWNED                -0.230593\n",
       "driver_insured_years#MORE_THAN_TEN             -0.159808\n",
       "driver_insured_years#FIVE                      -0.115714\n",
       "vehicle_registration_ym                        -0.100971\n",
       "occasional_driver_birth_date#4.0               -0.092681\n",
       "driver_insured_years#SIX                       -0.077558\n",
       "occasional_driver_birth_date#5.0               -0.074299\n",
       "driver_insured_years#FOUR                      -0.072158\n",
       "driver_insured_years#SEVEN                     -0.070323\n",
       "driver_insured_years#EIGHT                     -0.062633\n",
       "driver_insured_years#TEN                       -0.062083\n",
       "occasional_driver_birth_date#3.0               -0.058811\n",
       "occasional_driver_license_attainment_age#0.0   -0.055499\n",
       "policyholder_license_attainment_age#nan        -0.054546\n",
       "policyholder_age#nan                           -0.054546\n",
       "driver_insured_years#THREE                     -0.052408\n",
       "dtype: float64"
      ]
     },
     "execution_count": 19,
     "metadata": {},
     "output_type": "execute_result"
    }
   ],
   "source": [
    "s.sort_values(ascending=True)[:16]"
   ]
  },
  {
   "cell_type": "code",
   "execution_count": null,
   "metadata": {},
   "outputs": [],
   "source": []
  }
 ],
 "metadata": {
  "kernelspec": {
   "display_name": "py310",
   "language": "python",
   "name": "python3"
  },
  "language_info": {
   "codemirror_mode": {
    "name": "ipython",
    "version": 3
   },
   "file_extension": ".py",
   "mimetype": "text/x-python",
   "name": "python",
   "nbconvert_exporter": "python",
   "pygments_lexer": "ipython3",
   "version": "3.10.9"
  },
  "orig_nbformat": 4
 },
 "nbformat": 4,
 "nbformat_minor": 2
}
